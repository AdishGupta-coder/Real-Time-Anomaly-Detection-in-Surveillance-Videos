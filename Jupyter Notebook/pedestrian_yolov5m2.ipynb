{
 "cells": [
  {
   "cell_type": "code",
   "execution_count": 1,
   "id": "891284f6-8d54-440a-8ce5-6201fca0278c",
   "metadata": {},
   "outputs": [],
   "source": [
    "#from google.colab import drive\n",
    "#drive.mount('/content/drive')\n",
    "#source_path = '/content/drive/MyDrive/MOT17/train'\n",
    "source_path = 'MOT17/train'\n",
    "import os\n",
    "import cv2\n",
    "import torch\n",
    "import shutil\n",
    "import random\n",
    "import numpy as np\n",
    "from glob import glob\n",
    "from tqdm import tqdm\n",
    "import matplotlib.pyplot as plt\n",
    "\n",
    "np.random.seed(42)"
   ]
  },
  {
   "cell_type": "code",
   "execution_count": 3,
   "id": "d1c43956-4811-4b4a-a000-df87f55c1a21",
   "metadata": {},
   "outputs": [
    {
     "name": "stdout",
     "output_type": "stream",
     "text": [
      "/mnt/c/Users/ADISH GUPTA/Desktop/SOC IITB 25/yolov5\n"
     ]
    }
   ],
   "source": [
    "%cd yolov5"
   ]
  },
  {
   "cell_type": "code",
   "execution_count": 4,
   "id": "073241f6-55ed-4e26-8c11-b79de4e73cb8",
   "metadata": {},
   "outputs": [],
   "source": [
    "TRAIN = True\n",
    "def set_res_dir():\n",
    "    # Directory to store results\n",
    "    res_dir_count = len(glob('./runs/train/*'))\n",
    "    print(f\"Current number of result directories: {res_dir_count}\")\n",
    "    if TRAIN:\n",
    "        RES_DIR = f\"results_{res_dir_count+1}\"\n",
    "        print(RES_DIR)\n",
    "    else:\n",
    "        RES_DIR = f\"results_{res_dir_count}\"\n",
    "    return RES_DIR"
   ]
  },
  {
   "cell_type": "code",
   "execution_count": null,
   "id": "63a345b0-9e91-4184-abeb-ee8ed98b47a1",
   "metadata": {},
   "outputs": [
    {
     "name": "stdout",
     "output_type": "stream",
     "text": [
      "Current number of result directories: 5\n",
      "results_6\n"
     ]
    }
   ],
   "source": [
    "RES_DIR = set_res_dir()\n",
    "EPOCHS = 15\n",
    "if TRAIN:\n",
    "    !python train.py --data ../data.yaml --weights yolov5m.pt \\\n",
    "    --img 640 --epochs {EPOCHS} --batch-size 16 --name {RES_DIR} \\\n",
    "    --freeze 0 1 2 3 4 5 6 7 8 9 10 11 12 13 14"
   ]
  },
  {
   "cell_type": "code",
   "execution_count": null,
   "id": "8fc81834-c211-4ba0-b0bf-4fe170bccf30",
   "metadata": {},
   "outputs": [],
   "source": []
  }
 ],
 "metadata": {
  "kernelspec": {
   "display_name": "Python 3 (ipykernel)",
   "language": "python",
   "name": "python3"
  },
  "language_info": {
   "codemirror_mode": {
    "name": "ipython",
    "version": 3
   },
   "file_extension": ".py",
   "mimetype": "text/x-python",
   "name": "python",
   "nbconvert_exporter": "python",
   "pygments_lexer": "ipython3",
   "version": "3.12.3"
  }
 },
 "nbformat": 4,
 "nbformat_minor": 5
}
