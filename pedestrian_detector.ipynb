{
  "nbformat": 4,
  "nbformat_minor": 0,
  "metadata": {
    "colab": {
      "provenance": [],
      "authorship_tag": "ABX9TyOWdtjaYUYOHxvewhhd7Ie7",
      "include_colab_link": true
    },
    "kernelspec": {
      "name": "python3",
      "display_name": "Python 3"
    },
    "language_info": {
      "name": "python"
    }
  },
  "cells": [
    {
      "cell_type": "markdown",
      "metadata": {
        "id": "view-in-github",
        "colab_type": "text"
      },
      "source": [
        "<a href=\"https://colab.research.google.com/github/AdishGupta-coder/Real-Time-Anomaly-Detection-in-Surveillance-Videos/blob/main/pedestrian_detector.ipynb\" target=\"_parent\"><img src=\"https://colab.research.google.com/assets/colab-badge.svg\" alt=\"Open In Colab\"/></a>"
      ]
    },
    {
      "cell_type": "markdown",
      "source": [
        "# Data Preprocessing\n",
        "\n",
        "Before you train YOLOv5 on the MOT17 dataset, you must preprocess the data to match the required YOLO format\n",
        "\n",
        "First, you need to mount the google drive to your colab notebook and then preprocess the MOT17 data"
      ],
      "metadata": {
        "id": "HHP94DV2ilHj"
      }
    },
    {
      "cell_type": "code",
      "source": [
        "from google.colab import drive\n",
        "drive.mount('/content/drive')"
      ],
      "metadata": {
        "id": "tkqcDxHgi37j"
      },
      "execution_count": null,
      "outputs": []
    },
    {
      "cell_type": "markdown",
      "source": [
        "## Preprocessing Includes:\n",
        "### Converting annotations:\n",
        "\n",
        "MOT17 uses a different annotation format (CSV-style with bounding boxes in top-left format). We need to convert these into YOLO format (normalized center-based coordinates)."
      ],
      "metadata": {
        "id": "yIRgi1NAkTiK"
      }
    },
    {
      "cell_type": "code",
      "source": [
        "def convert_bbox_to_yolo(x1, y1, w, h, img_w, img_h):\n",
        "    x_center = (x1 + w / 2) / img_w\n",
        "    y_center = (y1 + h / 2) / img_h\n",
        "    w_norm = w / img_w\n",
        "    h_norm = h / img_h\n",
        "    return [x_center, y_center, w_norm, h_norm]"
      ],
      "metadata": {
        "id": "nLvXT2QUkip5"
      },
      "execution_count": null,
      "outputs": []
    }
  ]
}