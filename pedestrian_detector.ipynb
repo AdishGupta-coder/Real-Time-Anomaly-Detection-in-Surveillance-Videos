{
  "nbformat": 4,
  "nbformat_minor": 0,
  "metadata": {
    "colab": {
      "provenance": [],
      "authorship_tag": "ABX9TyM6izxy24b+gND2PsvLFLRx"
    },
    "kernelspec": {
      "name": "python3",
      "display_name": "Python 3"
    },
    "language_info": {
      "name": "python"
    }
  },
  "cells": [
    {
      "cell_type": "markdown",
      "source": [
        "# Data Preprocessing\n",
        "\n",
        "Before you train YOLOv5 on the MOT17 dataset, you must preprocess the data to match the required YOLO format\n",
        "\n",
        "First, you need to mount the google drive to your colab notebook and then preprocess the MOT17 data"
      ],
      "metadata": {
        "id": "HHP94DV2ilHj"
      }
    },
    {
      "cell_type": "code",
      "source": [
        "from google.colab import drive\n",
        "import os\n",
        "drive.mount('/content/drive')\n",
        "source_path = '/content/drive/MyDrive/MOT17/train'"
      ],
      "metadata": {
        "id": "tkqcDxHgi37j"
      },
      "execution_count": null,
      "outputs": []
    },
    {
      "cell_type": "markdown",
      "source": [
        "## Preprocessing Includes:\n",
        "### Converting annotations:\n",
        "\n",
        "MOT17 uses a different annotation format (CSV-style with bounding boxes in top-left format). We need to convert these into YOLO format (normalized center-based coordinates)."
      ],
      "metadata": {
        "id": "yIRgi1NAkTiK"
      }
    },
    {
      "cell_type": "code",
      "source": [
        "def convert_bbox_to_yolo(x1, y1, w, h, img_w, img_h):\n",
        "    x_center = (x1 + w / 2) / img_w\n",
        "    y_center = (y1 + h / 2) / img_h\n",
        "    w_norm = w / img_w\n",
        "    h_norm = h / img_h\n",
        "    return [x_center, y_center, w_norm, h_norm]"
      ],
      "metadata": {
        "id": "nLvXT2QUkip5"
      },
      "execution_count": null,
      "outputs": []
    },
    {
      "cell_type": "markdown",
      "source": [
        "### Organizing the dataset:\n",
        "\n",
        "Create a new folder in google drive and inside it create train, val and test folders to store the processed data\n",
        "\n",
        "Train folder contains : train/images , train/labels subfolders\n",
        "\n",
        "Val folder contains : val/images , val/labels subfolders\n",
        "\n",
        "Test folder contains: test/images"
      ],
      "metadata": {
        "id": "FQ0vz8XhU-C7"
      }
    },
    {
      "cell_type": "code",
      "source": [
        "output_path = \"/content/drive/MyDrive/MOT17_YOLOv5\"\n",
        "\n",
        "folders = [\n",
        "    \"train/images\",\n",
        "    \"train/labels\",\n",
        "    \"val/images\",\n",
        "    \"val/labels\",\n",
        "    \"test/images\"\n",
        "]\n",
        "\n",
        "for folder in folders:\n",
        "    full_path = os.path.join(base_path, folder)\n",
        "    os.makedirs(full_path, exist_ok=True)\n",
        "    print(f\"Created: {full_path}\")"
      ],
      "metadata": {
        "id": "nws9zqFlVBe6"
      },
      "execution_count": null,
      "outputs": []
    }
  ]
}